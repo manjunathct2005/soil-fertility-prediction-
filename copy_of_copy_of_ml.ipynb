{
  "cells": [
    {
      "cell_type": "code",
      "source": [
        "!pip install pymongo pyngrok"
      ],
      "metadata": {
        "colab": {
          "base_uri": "https://localhost:8080/"
        },
        "id": "EO89-zZgLRnL",
        "outputId": "cdc5741b-dc12-4d4a-e04c-9e80ae12d14f"
      },
      "execution_count": 1,
      "outputs": [
        {
          "output_type": "stream",
          "name": "stdout",
          "text": [
            "Collecting pymongo\n",
            "  Downloading pymongo-4.10.1-cp310-cp310-manylinux_2_17_x86_64.manylinux2014_x86_64.whl.metadata (22 kB)\n",
            "Collecting pyngrok\n",
            "  Downloading pyngrok-7.2.1-py3-none-any.whl.metadata (8.3 kB)\n",
            "Collecting dnspython<3.0.0,>=1.16.0 (from pymongo)\n",
            "  Downloading dnspython-2.7.0-py3-none-any.whl.metadata (5.8 kB)\n",
            "Requirement already satisfied: PyYAML>=5.1 in /usr/local/lib/python3.10/dist-packages (from pyngrok) (6.0.2)\n",
            "Downloading pymongo-4.10.1-cp310-cp310-manylinux_2_17_x86_64.manylinux2014_x86_64.whl (1.4 MB)\n",
            "\u001b[2K   \u001b[90m━━━━━━━━━━━━━━━━━━━━━━━━━━━━━━━━━━━━━━━━\u001b[0m \u001b[32m1.4/1.4 MB\u001b[0m \u001b[31m14.3 MB/s\u001b[0m eta \u001b[36m0:00:00\u001b[0m\n",
            "\u001b[?25hDownloading pyngrok-7.2.1-py3-none-any.whl (22 kB)\n",
            "Downloading dnspython-2.7.0-py3-none-any.whl (313 kB)\n",
            "\u001b[2K   \u001b[90m━━━━━━━━━━━━━━━━━━━━━━━━━━━━━━━━━━━━━━━━\u001b[0m \u001b[32m313.6/313.6 kB\u001b[0m \u001b[31m13.8 MB/s\u001b[0m eta \u001b[36m0:00:00\u001b[0m\n",
            "\u001b[?25hInstalling collected packages: pyngrok, dnspython, pymongo\n",
            "Successfully installed dnspython-2.7.0 pymongo-4.10.1 pyngrok-7.2.1\n"
          ]
        }
      ]
    },
    {
      "cell_type": "code",
      "source": [
        "!pip install ngrok"
      ],
      "metadata": {
        "colab": {
          "base_uri": "https://localhost:8080/"
        },
        "id": "mKidiCn-c1RN",
        "outputId": "57a7c39f-74d9-431a-bada-2c2cc75553c6"
      },
      "execution_count": 2,
      "outputs": [
        {
          "output_type": "stream",
          "name": "stdout",
          "text": [
            "Collecting ngrok\n",
            "  Downloading ngrok-1.4.0-cp37-abi3-manylinux_2_17_x86_64.manylinux2014_x86_64.whl.metadata (19 kB)\n",
            "Downloading ngrok-1.4.0-cp37-abi3-manylinux_2_17_x86_64.manylinux2014_x86_64.whl (3.1 MB)\n",
            "\u001b[2K   \u001b[90m━━━━━━━━━━━━━━━━━━━━━━━━━━━━━━━━━━━━━━━━\u001b[0m \u001b[32m3.1/3.1 MB\u001b[0m \u001b[31m31.7 MB/s\u001b[0m eta \u001b[36m0:00:00\u001b[0m\n",
            "\u001b[?25hInstalling collected packages: ngrok\n",
            "Successfully installed ngrok-1.4.0\n"
          ]
        }
      ]
    },
    {
      "cell_type": "code",
      "source": [
        "import hashlib\n",
        "import pickle\n",
        "import pandas as pd\n",
        "from flask import Flask, render_template, request, redirect, url_for, session, flash\n",
        "from pymongo import MongoClient\n",
        "from sklearn.preprocessing import StandardScaler\n",
        "from pyngrok import ngrok  # Import ngrok\n",
        "from urllib.parse import quote_plus # Import quote_plus\n",
        "import joblib\n",
        "\n",
        "\n",
        "ngrok.set_auth_token(\"2os4BpqJxJ2zMlPIKnogyPJesjm_7PXoEfByyvcRCQ6RUaz87\")\n",
        "app = Flask(__name__)\n",
        "app.secret_key = 'MANJU'  # Replace with a secure key\n",
        "\n",
        "# MongoDB Atlas connection\n",
        "username = \"manjunath\"  # Replace with your MongoDB Atlas username\n",
        "password = \"manju@2005\"  # Replace with your MongoDB Atlas password\n",
        "cluster_url = \"cluster0.9gafb.mongodb.net\"  # Replace with your MongoDB Atlas cluster URL\n",
        "db_name = \"Project0\"  # Database name\n",
        "\n",
        "# URL-encode the username and password to comply with RFC 3986\n",
        "encoded_username = quote_plus(username)\n",
        "encoded_password = quote_plus(password)\n",
        "\n",
        "# Create connection string and client for MongoDB Atlas with escaped username and password\n",
        "uri = f\"mongodb+srv://{encoded_username}:{encoded_password}@{cluster_url}/{db_name}?retryWrites=true&w=majority\"\n",
        "client = MongoClient(uri)  # Initialize MongoClient\n",
        "db = client.get_database(db_name)  # Replace with your database name\n",
        "users_collection = db.users  # Your collection name for users\n",
        "\n",
        "# Load your pre-trained model and scaler (update paths if necessary)\n",
        "model = pickle.load(open('random_forest_model.pkl', 'rb'))\n",
        "feature_names = ['N', 'P', 'K', 'pH', 'EC','OC', 'S', 'Zn', 'Fe', 'Cu', 'Mn', 'B']\n",
        "# ... (rest of your code) ...\n",
        "# Route to redirect to the login page (This is the first page that will be opened)\n",
        "@app.route('/')\n",
        "def index():\n",
        "    return redirect(url_for('login'))  # Redirect to the login page by default\n",
        "\n",
        "# Route to handle login page\n",
        "@app.route('/login', methods=['GET', 'POST'])\n",
        "def login():\n",
        "    if request.method == 'POST':\n",
        "        # Handle form submission\n",
        "        username = request.form['username']\n",
        "        password = request.form['password']\n",
        "\n",
        "        # Hash the password for comparison\n",
        "        hashed_password = hashlib.sha256(password.encode()).hexdigest()\n",
        "\n",
        "        # Check if the user exists in MongoDB\n",
        "        user = users_collection.find_one({\"username\": username, \"password\": hashed_password})\n",
        "\n",
        "        if user:\n",
        "            # Set the session data for logged-in user\n",
        "            session['username'] = username\n",
        "            flash(\"Login successful!\")\n",
        "            return redirect(url_for('ProjectHomepage'))  # Redirect to home page on successful login\n",
        "        else:\n",
        "            flash(\"Invalid login credentials. Please try again.\")\n",
        "            return redirect(url_for('login'))  # Redirect back to login page on failure\n",
        "\n",
        "    return render_template('login.html')  # Display login form when GET request\n",
        "\n",
        "# Route to handle user sign-up\n",
        "@app.route('/signup', methods=['POST'])\n",
        "def signup():\n",
        "    username = request.form['username']\n",
        "    password = request.form['password']\n",
        "    confirm_password = request.form['confirm_password']\n",
        "\n",
        "    # Check if passwords match\n",
        "    if password != confirm_password:\n",
        "        flash(\"Passwords do not match!\")\n",
        "        return redirect(url_for('login'))\n",
        "\n",
        "    # Hash the password for security\n",
        "    hashed_password = hashlib.sha256(password.encode()).hexdigest()\n",
        "\n",
        "    # Check if username already exists\n",
        "    existing_user = users_collection.find_one({\"username\": username})\n",
        "    if existing_user:\n",
        "        flash(\"Username already exists. Please choose another one.\")\n",
        "        return redirect(url_for('login'))\n",
        "\n",
        "    # Insert the user into MongoDB\n",
        "    users_collection.insert_one({\"username\": username, \"password\": hashed_password})\n",
        "    flash('Registration successful! Please sign in to continue.')\n",
        "    return redirect(url_for('login'))  # Redirect to login page after successful registration\n",
        "\n",
        "# Route to handle the signin functionality for login\n",
        "@app.route('/signin', methods=['POST'])\n",
        "def signin():\n",
        "    username = request.form['username']\n",
        "    password = request.form['password']\n",
        "\n",
        "    # Hash the password\n",
        "    hashed_password = hashlib.sha256(password.encode()).hexdigest()\n",
        "\n",
        "    # Check user credentials in MongoDB\n",
        "    user = users_collection.find_one({\"username\": username, \"password\": hashed_password})\n",
        "\n",
        "    if user:\n",
        "        # Store user session data\n",
        "        session['username'] = username\n",
        "        flash(\"Signin successful!\")\n",
        "        return redirect(url_for('ProjectHomepage'))  # Redirect to homepage\n",
        "    else:\n",
        "        flash(\"Invalid credentials! Please try again.\")\n",
        "        return redirect(url_for('login'))  # Redirect back to login page if authentication fails\n",
        "\n",
        "# Route to handle the project homepage after login\n",
        "@app.route('/ProjectHomepage', methods=['GET', 'POST'])\n",
        "def ProjectHomepage():\n",
        "    # Ensure that the user is logged in before accessing this page\n",
        "    if 'username' not in session:\n",
        "        flash(\"Please login first.\")\n",
        "        return redirect(url_for('login'))\n",
        "\n",
        "    prediction = None\n",
        "\n",
        "    # Check if the form for prediction is submitted\n",
        "    if request.method == 'POST':\n",
        "        try:\n",
        "            # Collect input data from form and ensure conversion to floats\n",
        "            input_values = [\n",
        "                float(request.form['input_1']),\n",
        "                float(request.form['input_2']),\n",
        "                float(request.form['input_3']),\n",
        "                float(request.form['input_4']),\n",
        "                float(request.form['input_5']),\n",
        "                float(request.form['input_6']),\n",
        "                float(request.form['input_7']),\n",
        "                float(request.form['input_8']),\n",
        "                float(request.form['input_9']),\n",
        "                float(request.form['input_10']),\n",
        "                float(request.form['input_11']),\n",
        "                float(request.form['input_12']),\n",
        "            ]\n",
        "\n",
        "            # Debugging output\n",
        "            print(f\"Received Input Values: {input_values}\")\n",
        "\n",
        "            # Create a DataFrame with feature names as columns for consistency with model\n",
        "            input_df = pd.DataFrame([input_values], columns=feature_names)\n",
        "            # Assuming you have the training data as `X_train`\n",
        "            scaler = joblib.load('scaler.pkl')\n",
        "\n",
        "            # Now you can use it for transforming new data\n",
        "            input_data_scaled = scaler.transform(input_df) if scaler else input_df\n",
        "            # Scale the data if a scaler is available\n",
        "            input_data_scaled = scaler.transform(input_df) if scaler else input_df\n",
        "\n",
        "            # Make prediction using the model\n",
        "            prediction = model.predict(input_data_scaled)[0]\n",
        "\n",
        "        except Exception as e:\n",
        "            flash(f\"Error during prediction: {e}\")\n",
        "            print(f\"Error: {e}\")\n",
        "\n",
        "    return render_template('ProjectHomepage.html', prediction=prediction)\n",
        "\n",
        "\n",
        "if __name__ == \"__main__\":\n",
        "    port = 5000\n",
        "    public_url = ngrok.connect(port)\n",
        "    print(f'Ngrok URL: {public_url}')\n",
        "    app.run(port=port, debug=False)  # Disable debug mode in production  # Use host='0.0.0.0' for ngrok to work properly\n"
      ],
      "metadata": {
        "colab": {
          "base_uri": "https://localhost:8080/"
        },
        "id": "56DW3uMsYRpd",
        "outputId": "9307646c-c498-48b2-907d-72e9f6bcda9a"
      },
      "execution_count": 20,
      "outputs": [
        {
          "output_type": "stream",
          "name": "stdout",
          "text": [
            "Ngrok URL: NgrokTunnel: \"https://abd2-34-34-25-54.ngrok-free.app\" -> \"http://localhost:5000\"\n",
            " * Serving Flask app '__main__'\n",
            " * Debug mode: off\n"
          ]
        },
        {
          "output_type": "stream",
          "name": "stderr",
          "text": [
            "INFO:werkzeug:\u001b[31m\u001b[1mWARNING: This is a development server. Do not use it in a production deployment. Use a production WSGI server instead.\u001b[0m\n",
            " * Running on http://127.0.0.1:5000\n",
            "INFO:werkzeug:\u001b[33mPress CTRL+C to quit\u001b[0m\n",
            "INFO:werkzeug:127.0.0.1 - - [16/Nov/2024 08:48:12] \"\u001b[32mGET / HTTP/1.1\u001b[0m\" 302 -\n",
            "INFO:werkzeug:127.0.0.1 - - [16/Nov/2024 08:48:14] \"GET /login HTTP/1.1\" 200 -\n",
            "INFO:werkzeug:127.0.0.1 - - [16/Nov/2024 08:48:15] \"\u001b[33mGET /favicon.ico HTTP/1.1\u001b[0m\" 404 -\n",
            "INFO:werkzeug:127.0.0.1 - - [16/Nov/2024 08:48:34] \"\u001b[32mPOST /signin HTTP/1.1\u001b[0m\" 302 -\n",
            "INFO:werkzeug:127.0.0.1 - - [16/Nov/2024 08:48:35] \"GET /ProjectHomepage HTTP/1.1\" 200 -\n",
            "/usr/local/lib/python3.10/dist-packages/sklearn/base.py:493: UserWarning: X does not have valid feature names, but RandomForestClassifier was fitted with feature names\n",
            "  warnings.warn(\n",
            "INFO:werkzeug:127.0.0.1 - - [16/Nov/2024 08:51:43] \"POST /ProjectHomepage HTTP/1.1\" 200 -\n"
          ]
        },
        {
          "output_type": "stream",
          "name": "stdout",
          "text": [
            "Received Input Values: [65.0, 12.0, 98.0, 6.9, 12.0, 2.0, 17.0, 9.0, 19.0, 12.0, 34.0, 0.8]\n"
          ]
        }
      ]
    },
    {
      "cell_type": "code",
      "source": [
        "import requests\n",
        "import json\n",
        "\n",
        "try:\n",
        "    response = requests.post('https://d41a-34-34-25-54.ngrok-free.app/predict', headers={'Content-Type': 'application/json'}, data=json.dumps({'input': 'test'}))\n",
        "    response.raise_for_status() # Raise an exception for non-200 status codes\n",
        "    data = response.json()\n",
        "    print(data)\n",
        "except requests.exceptions.RequestException as e:\n",
        "    print(f\"Error: {e}\")\n",
        "except json.JSONDecodeError as e:\n",
        "    print(f\"Error decoding JSON response: {e}\")"
      ],
      "metadata": {
        "id": "mxdMQJkjd6Aw",
        "outputId": "f16a4220-aeec-47fc-fce4-de3865eb6eeb",
        "colab": {
          "base_uri": "https://localhost:8080/"
        }
      },
      "execution_count": 8,
      "outputs": [
        {
          "output_type": "stream",
          "name": "stdout",
          "text": [
            "Error: 404 Client Error: Not Found for url: https://d41a-34-34-25-54.ngrok-free.app/predict\n"
          ]
        }
      ]
    }
  ],
  "metadata": {
    "colab": {
      "provenance": []
    },
    "kernelspec": {
      "display_name": "Python 3",
      "name": "python3"
    }
  },
  "nbformat": 4,
  "nbformat_minor": 0
}